{
 "cells": [
  {
   "cell_type": "code",
   "execution_count": 1,
   "id": "642ded61",
   "metadata": {},
   "outputs": [],
   "source": [
    "import pandas as pd\n",
    "import numpy as np\n",
    "import os\n",
    "import matplotlib.pyplot as plt"
   ]
  },
  {
   "cell_type": "markdown",
   "id": "75a493c7",
   "metadata": {},
   "source": [
    "BUYS DATSET FILE DESCRIPTION\n",
    "\n",
    "======================================\n",
    "\n",
    "The file yoochoose-buys.dat comprising the buy events of the users over the items.\n",
    "Each record/line in the file has the following fields: Session ID, Timestamp, Item ID, Price, Quantity\n",
    "\n",
    "- Session ID - the id of the session. In one session there are one or many buying events. Could be represented as an integer number.\n",
    "- Timestamp - the time when the buy occurred. Format of YYYY-MM-DDThh:mm:ss.SSSZ\n",
    "- Item ID – the unique identifier of item that has been bought. Could be represented as an integer number.\n",
    "- Price – the price of the item. Could be represented as an integer number.\n",
    "- Quantity – the quantity in this buying.  Could be represented as an integer number."
   ]
  },
  {
   "cell_type": "markdown",
   "id": "5ac1ca8a",
   "metadata": {},
   "source": [
    "CLICKS DATASET FILE DESCRIPTION\n",
    "\n",
    "=====================================\n",
    "\n",
    "The file yoochoose-clicks.dat comprising the clicks of the users over the items.\n",
    "Each record/line in the file has the following fields/format: Session ID, Timestamp, Item ID, Category\n",
    "- Session ID – the id of the session. In one session there are one or many clicks. Could be represented as an integer number.\n",
    "- Timestamp – the time when the click occurred. Format of YYYY-MM-DDThh:mm:ss.SSSZ\n",
    "- Item ID – the unique identifier of the item that has been clicked. Could be represented as an integer number.\n",
    "- Category – the context of the click. The value \"S\" indicates a special offer, \"0\" indicates  a missing value, a number between 1 to 12 indicates a real category identifier,\n",
    "\n",
    " any other number indicates a brand. E.g. if an item has been clicked in the context of a promotion or special offer then the value will be \"S\", if the context was a brand i.e BOSCH,\n",
    " then the value will be an 8-10 digits number. If the item has been clicked under regular category, i.e. sport, then the value will be a number between 1 to 12. "
   ]
  },
  {
   "cell_type": "code",
   "execution_count": 26,
   "id": "3eb6b9de",
   "metadata": {},
   "outputs": [],
   "source": [
    "buy_dataPath = \"./yoochoose-buys.dat\"\n",
    "click_dataPath = \"./yoochoose-clicks.dat\"\n",
    "test_dataPath = \"./yoochoose-test.dat\"\n",
    "# ! head -n 10 $click_dataPath"
   ]
  },
  {
   "cell_type": "markdown",
   "id": "e8002466",
   "metadata": {},
   "source": [
    "# 读取click数据"
   ]
  },
  {
   "cell_type": "code",
   "execution_count": 3,
   "id": "b2d5733d",
   "metadata": {},
   "outputs": [
    {
     "name": "stderr",
     "output_type": "stream",
     "text": [
      "/home/zhaoping/anaconda3/envs/recomSys/lib/python3.8/site-packages/IPython/core/interactiveshell.py:3444: DtypeWarning: Columns (3) have mixed types.Specify dtype option on import or set low_memory=False.\n",
      "  exec(code_obj, self.user_global_ns, self.user_ns)\n"
     ]
    }
   ],
   "source": [
    "click_df = pd.read_csv(click_dataPath, sep=',', header = None, names = [\"session_id\", \"timeStamp\", \"itemID\", \"category\"])"
   ]
  },
  {
   "cell_type": "code",
   "execution_count": 4,
   "id": "c5b9588d",
   "metadata": {},
   "outputs": [
    {
     "data": {
      "text/html": [
       "<div>\n",
       "<style scoped>\n",
       "    .dataframe tbody tr th:only-of-type {\n",
       "        vertical-align: middle;\n",
       "    }\n",
       "\n",
       "    .dataframe tbody tr th {\n",
       "        vertical-align: top;\n",
       "    }\n",
       "\n",
       "    .dataframe thead th {\n",
       "        text-align: right;\n",
       "    }\n",
       "</style>\n",
       "<table border=\"1\" class=\"dataframe\">\n",
       "  <thead>\n",
       "    <tr style=\"text-align: right;\">\n",
       "      <th></th>\n",
       "      <th>session_id</th>\n",
       "      <th>timeStamp</th>\n",
       "      <th>itemID</th>\n",
       "      <th>category</th>\n",
       "    </tr>\n",
       "  </thead>\n",
       "  <tbody>\n",
       "    <tr>\n",
       "      <th>0</th>\n",
       "      <td>351646</td>\n",
       "      <td>2014-04-01T03:00:00.124Z</td>\n",
       "      <td>214717005</td>\n",
       "      <td>0</td>\n",
       "    </tr>\n",
       "    <tr>\n",
       "      <th>1</th>\n",
       "      <td>389654</td>\n",
       "      <td>2014-04-01T03:00:00.567Z</td>\n",
       "      <td>214826705</td>\n",
       "      <td>0</td>\n",
       "    </tr>\n",
       "    <tr>\n",
       "      <th>2</th>\n",
       "      <td>263073</td>\n",
       "      <td>2014-04-01T03:00:10.087Z</td>\n",
       "      <td>214716982</td>\n",
       "      <td>0</td>\n",
       "    </tr>\n",
       "  </tbody>\n",
       "</table>\n",
       "</div>"
      ],
      "text/plain": [
       "   session_id                 timeStamp     itemID category\n",
       "0      351646  2014-04-01T03:00:00.124Z  214717005        0\n",
       "1      389654  2014-04-01T03:00:00.567Z  214826705        0\n",
       "2      263073  2014-04-01T03:00:10.087Z  214716982        0"
      ]
     },
     "execution_count": 4,
     "metadata": {},
     "output_type": "execute_result"
    }
   ],
   "source": [
    "# click_df.columns = [\"session_id\", \"timeStamp\", \"itemID\", \"price\", \"quantity\"] # buy\n",
    "# click_df.columns = [\"session_id\", \"timeStamp\", \"itemID\", \"category\"] # click\n",
    "click_df.sort_values(by = \"timeStamp\", ascending=True, inplace=True)\n",
    "click_df.reset_index(inplace=True, drop=True)\n",
    "click_df.head(3)"
   ]
  },
  {
   "cell_type": "code",
   "execution_count": 5,
   "id": "86fef8c5",
   "metadata": {},
   "outputs": [
    {
     "data": {
      "text/plain": [
       "session_id    0\n",
       "timeStamp     0\n",
       "itemID        0\n",
       "category      0\n",
       "dtype: int64"
      ]
     },
     "execution_count": 5,
     "metadata": {},
     "output_type": "execute_result"
    }
   ],
   "source": [
    "click_df.isnull().sum()"
   ]
  },
  {
   "cell_type": "code",
   "execution_count": 6,
   "id": "ceb42707",
   "metadata": {},
   "outputs": [
    {
     "data": {
      "text/plain": [
       "session_id     int64\n",
       "timeStamp     object\n",
       "itemID         int64\n",
       "category      object\n",
       "dtype: object"
      ]
     },
     "execution_count": 6,
     "metadata": {},
     "output_type": "execute_result"
    }
   ],
   "source": [
    "click_df.dtypes"
   ]
  },
  {
   "cell_type": "code",
   "execution_count": 7,
   "id": "2baeba86",
   "metadata": {},
   "outputs": [
    {
     "name": "stdout",
     "output_type": "stream",
     "text": [
      "session_id     9249729\n",
      "timeStamp     32937845\n",
      "itemID           52739\n",
      "category           340\n",
      "dtype: int64\n",
      "(33003944, 4)\n",
      "Minimum Session Length: 1\n",
      "Maximum Session Length: 200\n",
      "Average Session Length: 3.57\n"
     ]
    }
   ],
   "source": [
    "click_session_group = click_df.groupby('session_id').size()\n",
    "\n",
    "print(click_df.nunique())\n",
    "print(click_df.shape)\n",
    "print(\"Minimum Session Length: {:d}\".format(click_session_group.min()))\n",
    "print(\"Maximum Session Length: {:d}\".format(click_session_group.max()))\n",
    "print(\"Average Session Length: {:.2f}\".format(click_session_group.mean()))"
   ]
  },
  {
   "cell_type": "code",
   "execution_count": 14,
   "id": "99c45094",
   "metadata": {},
   "outputs": [
    {
     "data": {
      "image/png": "[encoded data removed]",
      "text/plain": [
       "<Figure size 720x432 with 1 Axes>"
      ]
     },
     "metadata": {
      "needs_background": "light"
     },
     "output_type": "display_data"
    }
   ],
   "source": [
    "plt.figure(figsize=(10,5))\n",
    "plt.hist(click_df.session_id.value_counts(), bins=20)\n",
    "plt.title(\"Number of click item in session\", fontsize=20)\n",
    "plt.xlabel(\"Number of item\", fontsize=15)\n",
    "plt.ylabel(\"Session number\", fontsize=15)\n",
    "plt.show()"
   ]
  },
  {
   "cell_type": "markdown",
   "id": "9953a815",
   "metadata": {},
   "source": [
    "# 读取buy数据"
   ]
  },
  {
   "cell_type": "code",
   "execution_count": 18,
   "id": "495cd2e2",
   "metadata": {},
   "outputs": [],
   "source": [
    "buy_df = pd.read_csv(buy_dataPath, sep=',', header = None, names = [\"session_id\", \"timeStamp\", \"itemID\", \"price\", \"quantity\"])"
   ]
  },
  {
   "cell_type": "code",
   "execution_count": 19,
   "id": "c1de5028",
   "metadata": {},
   "outputs": [
    {
     "data": {
      "text/html": [
       "<div>\n",
       "<style scoped>\n",
       "    .dataframe tbody tr th:only-of-type {\n",
       "        vertical-align: middle;\n",
       "    }\n",
       "\n",
       "    .dataframe tbody tr th {\n",
       "        vertical-align: top;\n",
       "    }\n",
       "\n",
       "    .dataframe thead th {\n",
       "        text-align: right;\n",
       "    }\n",
       "</style>\n",
       "<table border=\"1\" class=\"dataframe\">\n",
       "  <thead>\n",
       "    <tr style=\"text-align: right;\">\n",
       "      <th></th>\n",
       "      <th>session_id</th>\n",
       "      <th>timeStamp</th>\n",
       "      <th>itemID</th>\n",
       "      <th>price</th>\n",
       "      <th>quantity</th>\n",
       "    </tr>\n",
       "  </thead>\n",
       "  <tbody>\n",
       "    <tr>\n",
       "      <th>0</th>\n",
       "      <td>263073</td>\n",
       "      <td>2014-04-01T03:05:31.743Z</td>\n",
       "      <td>214716982</td>\n",
       "      <td>2617</td>\n",
       "      <td>1</td>\n",
       "    </tr>\n",
       "    <tr>\n",
       "      <th>1</th>\n",
       "      <td>466654</td>\n",
       "      <td>2014-04-01T03:21:30.255Z</td>\n",
       "      <td>214820812</td>\n",
       "      <td>313</td>\n",
       "      <td>1</td>\n",
       "    </tr>\n",
       "    <tr>\n",
       "      <th>2</th>\n",
       "      <td>466654</td>\n",
       "      <td>2014-04-01T03:21:30.271Z</td>\n",
       "      <td>214584907</td>\n",
       "      <td>4711</td>\n",
       "      <td>1</td>\n",
       "    </tr>\n",
       "  </tbody>\n",
       "</table>\n",
       "</div>"
      ],
      "text/plain": [
       "   session_id                 timeStamp     itemID  price  quantity\n",
       "0      263073  2014-04-01T03:05:31.743Z  214716982   2617         1\n",
       "1      466654  2014-04-01T03:21:30.255Z  214820812    313         1\n",
       "2      466654  2014-04-01T03:21:30.271Z  214584907   4711         1"
      ]
     },
     "execution_count": 19,
     "metadata": {},
     "output_type": "execute_result"
    }
   ],
   "source": [
    "# buy_df.columns = [\"session_id\", \"timeStamp\", \"itemID\", \"price\", \"quantity\"] # buy\n",
    "# buy_df.columns = [\"session_id\", \"timeStamp\", \"itemID\", \"category\"] # click\n",
    "buy_df.sort_values(by = \"timeStamp\", ascending=True, inplace=True)\n",
    "buy_df.reset_index(inplace=True, drop=True)\n",
    "buy_df.head(3)"
   ]
  },
  {
   "cell_type": "code",
   "execution_count": 21,
   "id": "3dc3a08a",
   "metadata": {},
   "outputs": [
    {
     "data": {
      "text/plain": [
       "session_id    0\n",
       "timeStamp     0\n",
       "itemID        0\n",
       "price         0\n",
       "quantity      0\n",
       "dtype: int64"
      ]
     },
     "execution_count": 21,
     "metadata": {},
     "output_type": "execute_result"
    }
   ],
   "source": [
    "buy_df.isnull().sum()"
   ]
  },
  {
   "cell_type": "code",
   "execution_count": 22,
   "id": "8227c83d",
   "metadata": {},
   "outputs": [
    {
     "data": {
      "text/plain": [
       "session_id    0\n",
       "timeStamp     0\n",
       "itemID        0\n",
       "price         0\n",
       "quantity      0\n",
       "dtype: int64"
      ]
     },
     "execution_count": 22,
     "metadata": {},
     "output_type": "execute_result"
    }
   ],
   "source": [
    "buy_df.isnull().sum()"
   ]
  },
  {
   "cell_type": "code",
   "execution_count": 23,
   "id": "b4967290",
   "metadata": {},
   "outputs": [
    {
     "name": "stdout",
     "output_type": "stream",
     "text": [
      "session_id     509696\n",
      "timeStamp     1136477\n",
      "itemID          19949\n",
      "price             735\n",
      "quantity           28\n",
      "dtype: int64\n",
      "(1150753, 5)\n",
      "Minimum Session Length: 1\n",
      "Maximum Session Length: 144\n",
      "Average Session Length: 2.26\n"
     ]
    }
   ],
   "source": [
    "buy_session_group = buy_df.groupby('session_id').size()\n",
    "\n",
    "print(buy_df.nunique())\n",
    "print(buy_df.shape)\n",
    "print(\"Minimum Session Length: {:d}\".format(buy_session_group.min()))\n",
    "print(\"Maximum Session Length: {:d}\".format(buy_session_group.max()))\n",
    "print(\"Average Session Length: {:.2f}\".format(buy_session_group.mean()))"
   ]
  },
  {
   "cell_type": "code",
   "execution_count": 25,
   "id": "d548f276",
   "metadata": {},
   "outputs": [
    {
     "data": {
      "image/png": "[encoded data removed]",
      "text/plain": [
       "<Figure size 720x360 with 1 Axes>"
      ]
     },
     "metadata": {
      "needs_background": "light"
     },
     "output_type": "display_data"
    }
   ],
   "source": [
    "plt.figure(figsize=(10,5))\n",
    "plt.hist(buy_df.session_id.value_counts(), bins=20)\n",
    "plt.title(\"Number of buy item in session\", fontsize=20)\n",
    "plt.xlabel(\"Number of item\", fontsize=15)\n",
    "plt.ylabel(\"Session number\", fontsize=15)\n",
    "plt.show()"
   ]
  },
  {
   "cell_type": "markdown",
   "id": "dbeb0cb2",
   "metadata": {},
   "source": [
    "# 读取test数据"
   ]
  },
  {
   "cell_type": "code",
   "execution_count": 27,
   "id": "08c90bd9",
   "metadata": {},
   "outputs": [
    {
     "name": "stderr",
     "output_type": "stream",
     "text": [
      "/home/zhaoping/anaconda3/envs/recomSys/lib/python3.8/site-packages/IPython/core/interactiveshell.py:3444: DtypeWarning: Columns (3) have mixed types.Specify dtype option on import or set low_memory=False.\n",
      "  exec(code_obj, self.user_global_ns, self.user_ns)\n"
     ]
    },
    {
     "data": {
      "text/html": [
       "<div>\n",
       "<style scoped>\n",
       "    .dataframe tbody tr th:only-of-type {\n",
       "        vertical-align: middle;\n",
       "    }\n",
       "\n",
       "    .dataframe tbody tr th {\n",
       "        vertical-align: top;\n",
       "    }\n",
       "\n",
       "    .dataframe thead th {\n",
       "        text-align: right;\n",
       "    }\n",
       "</style>\n",
       "<table border=\"1\" class=\"dataframe\">\n",
       "  <thead>\n",
       "    <tr style=\"text-align: right;\">\n",
       "      <th></th>\n",
       "      <th>session_id</th>\n",
       "      <th>timeStamp</th>\n",
       "      <th>itemID</th>\n",
       "      <th>category</th>\n",
       "    </tr>\n",
       "  </thead>\n",
       "  <tbody>\n",
       "    <tr>\n",
       "      <th>0</th>\n",
       "      <td>5</td>\n",
       "      <td>2014-04-07T17:13:46.713Z</td>\n",
       "      <td>214530776</td>\n",
       "      <td>0</td>\n",
       "    </tr>\n",
       "    <tr>\n",
       "      <th>1</th>\n",
       "      <td>5</td>\n",
       "      <td>2014-04-07T17:20:56.973Z</td>\n",
       "      <td>214530776</td>\n",
       "      <td>0</td>\n",
       "    </tr>\n",
       "    <tr>\n",
       "      <th>2</th>\n",
       "      <td>5</td>\n",
       "      <td>2014-04-07T17:21:19.602Z</td>\n",
       "      <td>214530776</td>\n",
       "      <td>0</td>\n",
       "    </tr>\n",
       "  </tbody>\n",
       "</table>\n",
       "</div>"
      ],
      "text/plain": [
       "   session_id                 timeStamp     itemID category\n",
       "0           5  2014-04-07T17:13:46.713Z  214530776        0\n",
       "1           5  2014-04-07T17:20:56.973Z  214530776        0\n",
       "2           5  2014-04-07T17:21:19.602Z  214530776        0"
      ]
     },
     "execution_count": 27,
     "metadata": {},
     "output_type": "execute_result"
    }
   ],
   "source": [
    "test_df = pd.read_csv(test_dataPath, sep=',', header = None, names = [\"session_id\", \"timeStamp\", \"itemID\", \"category\"])\n",
    "test_df.head(3)"
   ]
  },
  {
   "cell_type": "code",
   "execution_count": null,
   "id": "014c26b5",
   "metadata": {},
   "outputs": [],
   "source": []
  }
 ],
 "metadata": {
  "kernelspec": {
   "display_name": "Python 3 (ipykernel)",
   "language": "python",
   "name": "python3"
  },
  "language_info": {
   "codemirror_mode": {
    "name": "ipython",
    "version": 3
   },
   "file_extension": ".py",
   "mimetype": "text/x-python",
   "name": "python",
   "nbconvert_exporter": "python",
   "pygments_lexer": "ipython3",
   "version": "3.8.12"
  },
  "toc": {
   "base_numbering": 1,
   "nav_menu": {},
   "number_sections": true,
   "sideBar": true,
   "skip_h1_title": false,
   "title_cell": "Table of Contents",
   "title_sidebar": "Contents",
   "toc_cell": false,
   "toc_position": {},
   "toc_section_display": true,
   "toc_window_display": true
  }
 },
 "nbformat": 4,
 "nbformat_minor": 5
}
